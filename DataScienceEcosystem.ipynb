{
 "cells": [
  {
   "cell_type": "markdown",
   "id": "cce87f0f-7926-4c8b-af92-1e8c578f443e",
   "metadata": {},
   "source": [
    "# Data Science Tools and Ecosystem"
   ]
  },
  {
   "cell_type": "markdown",
   "id": "57ea1152-9752-41db-8bc0-b0fa93359ee1",
   "metadata": {},
   "source": [
    "In this notebook, Data Science Tools and Ecosystem are summarized."
   ]
  },
  {
   "cell_type": "markdown",
   "id": "f9fd0f1e-ca28-49e4-be3c-7b18f9a91ca2",
   "metadata": {},
   "source": [
    "**Objectives:**\n",
    "- List popular languages for Data Science\n",
    "- List commonly used libraries in Data Science\n",
    "- List some Data Science tools\n",
    "- Perform simple arithmetic expressions"
   ]
  },
  {
   "cell_type": "markdown",
   "id": "8236a2f9-789e-42b5-bdb7-3beea623b730",
   "metadata": {},
   "source": [
    "Some of the popular languages that Data Scientist use are:\n",
    "1. Python\n",
    "2. R\n",
    "3. Julia\n",
    "4. C++\n",
    "5. MATLAB"
   ]
  },
  {
   "cell_type": "markdown",
   "id": "ff704053-d283-476f-a6d5-7b995caeeb9a",
   "metadata": {},
   "source": [
    "Some of the commonly used libraries used by Data Scientists include:\n",
    "1. NumPy\n",
    "2. Pandas\n",
    "3. Matplotlib\n",
    "4. SciPy\n",
    "5. ggplot"
   ]
  },
  {
   "cell_type": "markdown",
   "id": "a49fc02e-73b1-49f0-b0e8-69d7ec258484",
   "metadata": {},
   "source": [
    "| Data Science Tools | \n",
    "| -------------|\n",
    "| Jupyter Notebook |\n",
    "| Spyder |\n",
    "| Python |"
   ]
  },
  {
   "cell_type": "markdown",
   "id": "7b443e57-710d-4036-982c-6dbe0df8be09",
   "metadata": {},
   "source": [
    "### Below are a few examples of evaluating arithmetic expressions in Python"
   ]
  },
  {
   "cell_type": "code",
   "execution_count": 4,
   "id": "e223c197-8425-4871-af8a-35c0ba5ea338",
   "metadata": {},
   "outputs": [
    {
     "data": {
      "text/plain": [
       "17"
      ]
     },
     "execution_count": 4,
     "metadata": {},
     "output_type": "execute_result"
    }
   ],
   "source": [
    "# This a simple arithmetic expression to multiply then add integers\n",
    "\n",
    "(3*4)+5"
   ]
  },
  {
   "cell_type": "code",
   "execution_count": 6,
   "id": "9c289e1d-8dc2-4b85-b423-7ae5b496ff79",
   "metadata": {},
   "outputs": [
    {
     "data": {
      "text/plain": [
       "3"
      ]
     },
     "execution_count": 6,
     "metadata": {},
     "output_type": "execute_result"
    }
   ],
   "source": [
    "# This will convert 200 minutes to hours by dividing by 60\n",
    "\n",
    "200//60"
   ]
  },
  {
   "cell_type": "markdown",
   "id": "abf9456c-f322-437d-844f-c4b8cd380edd",
   "metadata": {},
   "source": [
    "## Author\n",
    "Daniel Jiménez"
   ]
  },
  {
   "cell_type": "code",
   "execution_count": null,
   "id": "58bccd40-e642-44e6-ade8-2ef473720e5a",
   "metadata": {},
   "outputs": [],
   "source": []
  }
 ],
 "metadata": {
  "kernelspec": {
   "display_name": "Python [conda env:base] *",
   "language": "python",
   "name": "conda-base-py"
  },
  "language_info": {
   "codemirror_mode": {
    "name": "ipython",
    "version": 3
   },
   "file_extension": ".py",
   "mimetype": "text/x-python",
   "name": "python",
   "nbconvert_exporter": "python",
   "pygments_lexer": "ipython3",
   "version": "3.13.5"
  }
 },
 "nbformat": 4,
 "nbformat_minor": 5
}
